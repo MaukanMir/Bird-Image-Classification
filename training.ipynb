{
 "cells": [
  {
   "cell_type": "markdown",
   "metadata": {},
   "source": [
    "# Tomato Leaf Classification"
   ]
  },
  {
   "cell_type": "markdown",
   "metadata": {},
   "source": [
    "# Imports"
   ]
  },
  {
   "cell_type": "code",
   "execution_count": 3,
   "metadata": {},
   "outputs": [],
   "source": [
    "import os\n",
    "\n",
    "import numpy as np\n",
    "import matplotlib.pyplot as plt\n",
    "import seaborn as sns\n",
    "\n",
    "from PIL import Image, ImageFile"
   ]
  },
  {
   "cell_type": "markdown",
   "metadata": {},
   "source": [
    "# Constants"
   ]
  },
  {
   "cell_type": "code",
   "execution_count": 4,
   "metadata": {},
   "outputs": [],
   "source": [
    "PATH = \"/Users/maukanmir/Downloads/archive/\"\n",
    "BATCH_SIZE=64\n",
    "INPUT_SHAPE = (224,224,3)\n",
    "\n",
    "train_path, val_path, test_path = PATH +\"train\", PATH +\"valid\", PATH +\"test\""
   ]
  },
  {
   "cell_type": "markdown",
   "metadata": {},
   "source": [
    "# Functions"
   ]
  },
  {
   "cell_type": "code",
   "execution_count": 8,
   "metadata": {},
   "outputs": [],
   "source": [
    "ImageFile.LOAD_TRUNCATED_IMAGES = True\n",
    "\n",
    "def load_process(img_path, target_size=INPUT_SHAPE):\n",
    "  try:\n",
    "    with Image.open(img_path) as img:\n",
    "      img = img.resize(target_size[:2])\n",
    "      img = img.convert(\"RGB\")\n",
    "      \n",
    "      img_arr = np.array(img)/255.0\n",
    "      img_arr = img_arr.astype(np.float32)\n",
    "      return img_arr\n",
    "  except IOError as e:\n",
    "    print(f\"This Image was not able to be processed: {e}\")\n",
    "    return None\n",
    "\n",
    "def grab_images(path, size=False):\n",
    "  \n",
    "  images, labels = [], []\n",
    "  \n",
    "  for root, dirs, files in os.walk(path):\n",
    "    if size and len(labels) ==10:\n",
    "      break\n",
    "    for file in files:\n",
    "      if file.lower().endswith((\".png\", \".jpg\", \".jpeg\")):\n",
    "        img_path = os.path.join(root, file)\n",
    "        img = load_process(img_path)\n",
    "        if img is not None:\n",
    "          images.append(img)\n",
    "          label = root.split(os.sep)[-1]\n",
    "          labels.append(label)\n",
    "  \n",
    "  images, labels = np.array(images), np.array(labels)\n",
    "  return images, labels"
   ]
  },
  {
   "cell_type": "markdown",
   "metadata": {},
   "source": [
    "# Load Images"
   ]
  },
  {
   "cell_type": "code",
   "execution_count": 11,
   "metadata": {},
   "outputs": [],
   "source": [
    "X_train, y_train = grab_images(train_path)\n",
    "X_val, y_val = grab_images(val_path)\n",
    "X_test, y_test = grab_images(test_path)"
   ]
  },
  {
   "cell_type": "code",
   "execution_count": 12,
   "metadata": {},
   "outputs": [
    {
     "name": "stdout",
     "output_type": "stream",
     "text": [
      "Training shape: 645, 645\n",
      "Validation shape: 61, 61\n",
      "Test shape: 31, 31\n"
     ]
    }
   ],
   "source": [
    "print(f\"Training shape: {X_train.shape[0]}, {y_train.shape[0]}\")\n",
    "print(f\"Validation shape: {X_val.shape[0]}, {y_val.shape[0]}\")\n",
    "print(f\"Test shape: {X_test.shape[0]}, {y_test.shape[0]}\")"
   ]
  },
  {
   "cell_type": "markdown",
   "metadata": {},
   "source": [
    "# EDA Analysis"
   ]
  },
  {
   "cell_type": "code",
   "execution_count": null,
   "metadata": {},
   "outputs": [],
   "source": []
  }
 ],
 "metadata": {
  "kernelspec": {
   "display_name": "machine-learning-env",
   "language": "python",
   "name": "python3"
  },
  "language_info": {
   "codemirror_mode": {
    "name": "ipython",
    "version": 3
   },
   "file_extension": ".py",
   "mimetype": "text/x-python",
   "name": "python",
   "nbconvert_exporter": "python",
   "pygments_lexer": "ipython3",
   "version": "3.9.19"
  }
 },
 "nbformat": 4,
 "nbformat_minor": 2
}
